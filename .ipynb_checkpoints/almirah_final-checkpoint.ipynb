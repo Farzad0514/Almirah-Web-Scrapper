{
 "cells": [
  {
   "cell_type": "code",
   "execution_count": 1,
   "metadata": {},
   "outputs": [
    {
     "name": "stdout",
     "output_type": "stream",
     "text": [
      "200\n"
     ]
    }
   ],
   "source": [
    "import requests\n",
    "from bs4 import BeautifulSoup\n",
    "\n",
    "url=\"https://www.almirah.com.pk/collections/tunic-kurti?page=1\"\n",
    "site=requests.get(url)\n",
    "print(site.status_code)\n",
    "\n",
    "soup=BeautifulSoup(site.content, \"html.parser\")\n",
    "#print(soup.prettify())\n",
    "\n",
    "\n",
    "\n",
    "#all[0].find(\"a\", {\"class\", \"product-item-link\"}).text.replace(\"\\n\", \"\").replace(\" \", \"\")\n",
    "\n",
    "#all[0].find(\"a\", {\"class\", \"product-item-link\"}).get('href')\n",
    "\n",
    "#all[0].find(\"span\", {\"class\", \"price\"}).text.replace(\" \", \"\").replace(\"PKR\", \"\")"
   ]
  },
  {
   "cell_type": "code",
   "execution_count": 2,
   "metadata": {},
   "outputs": [],
   "source": [
    "#all=soup.find_all(\"div\", {\"class\", \"grid-product__content\"})\n",
    "#all[3]"
   ]
  },
  {
   "cell_type": "markdown",
   "metadata": {},
   "source": [
    "i=3\n",
    "#all will be replaced by item later\n",
    "all=soup.find_all(\"div\", {\"class\", \"grid-product__content\"})\n",
    "all[i]\n",
    "#productTitle= all[i].find('div', {'class', 'grid-product__title grid-product__title--body'})\n",
    "#price= all[i].find('div', {'class', 'grid-product__price'}).find_all('span')\n",
    "#originalPrice=price[1].text.replace(\"Rs.\", \"\").replace(\",\",\"\")\n",
    "#salePrice=price[4].text.replace(\"Rs.\", \"\").replace(\",\",\"\")\n",
    "#saving=price[5].text.replace(\"Save\", \"\").replace(\" \",\"\").replace(\"Rs.\", \"\")\n",
    "\n",
    "\n",
    "urlPart=all[i].find('a', {'class', 'grid-product__link'}).get('href')\n",
    "urlInitials=('https://www.almirah.com.pk')\n",
    "productUrl=urlInitials+urlPart\n",
    "#original price\n",
    "print(all[i].find('div', {'class', 'grid-product__price'}).find_all('span')[1].text.replace(\"Rs.\", \"\").replace(\",\",\"\"))\n",
    "#sale price\n",
    "print(all[i].find('div', {'class', 'grid-product__price'}).find_all('span')[4].text.replace(\"Rs.\", \"\").replace(\",\",\"\"))\n",
    "#saving\n",
    "print(all[i].find('div', {'class', 'grid-product__price'}).find_all('span')[5].text.replace(\"Save\", \"\").replace(\" \",\"\").replace(\"Rs.\", \"\").replace(\"\\n\", \"\").replace(\",\", \"\"))\n",
    "#title\n",
    "print(all[i].find('div', {'class', 'grid-product__title grid-product__title--body'}).text)\n",
    "\n",
    "print(productTitle.text)\n",
    "#print(originalPrice)\n",
    "#print(salePrice)\n",
    "#print(saving)\n",
    "print(productUrl)"
   ]
  },
  {
   "cell_type": "code",
   "execution_count": 3,
   "metadata": {},
   "outputs": [],
   "source": [
    "#len(all)"
   ]
  },
  {
   "cell_type": "code",
   "execution_count": 4,
   "metadata": {},
   "outputs": [
    {
     "name": "stdout",
     "output_type": "stream",
     "text": [
      "3\n"
     ]
    }
   ],
   "source": [
    "findPage= soup.find(\"div\", {\"class\", \"pagination\"})\n",
    "findconti=findPage.find_all('span', {'class', 'page'})\n",
    "lastpage = findconti[-1].text\n",
    "print(lastpage)"
   ]
  },
  {
   "cell_type": "code",
   "execution_count": 8,
   "metadata": {},
   "outputs": [
    {
     "name": "stdout",
     "output_type": "stream",
     "text": [
      "https://www.almirah.com.pk/collections/tunic-kurti?page=1\n",
      "Request #1\n",
      "User-Agent Sent:Mozilla/5.0 (Macintosh; Intel Mac OS X 10_15_5) AppleWebKit/605.1.15 (KHTML, like Gecko) Version/13.1.1 Safari/605.1.15\n",
      "\n",
      "Headers Recevied by HTTPBin:\n",
      "200\n",
      "https://www.almirah.com.pk/collections/tunic-kurti?page=2\n",
      "Request #2\n",
      "User-Agent Sent:Mozilla/5.0 (Macintosh; Intel Mac OS X 10_15_5) AppleWebKit/537.36 (KHTML, like Gecko) Chrome/83.0.4103.97 Safari/537.36\n",
      "\n",
      "Headers Recevied by HTTPBin:\n",
      "200\n",
      "https://www.almirah.com.pk/collections/tunic-kurti?page=3\n",
      "Request #3\n",
      "User-Agent Sent:Mozilla/5.0 (Macintosh; Intel Mac OS X 10.15; rv:77.0) Gecko/20100101 Firefox/77.0\n",
      "\n",
      "Headers Recevied by HTTPBin:\n",
      "200\n"
     ]
    }
   ],
   "source": [
    "l=[]\n",
    "base_url=(\"https://www.almirah.com.pk/collections/tunic-kurti?page=\")\n",
    "upperrange=int(lastpage)+1\n",
    "for page in range(1,int(upperrange)):\n",
    "    \n",
    "    \n",
    "    #fake browser\n",
    "    import random\n",
    "    user_agent_list = [\n",
    "        'Mozilla/5.0 (Macintosh; Intel Mac OS X 10_15_5) AppleWebKit/605.1.15 (KHTML, like Gecko) Version/13.1.1 Safari/605.1.15',\n",
    "        'Mozilla/5.0 (Windows NT 10.0; Win64; x64; rv:77.0) Gecko/20100101 Firefox/77.0',\n",
    "        'Mozilla/5.0 (Macintosh; Intel Mac OS X 10_15_5) AppleWebKit/537.36 (KHTML, like Gecko) Chrome/83.0.4103.97 Safari/537.36',\n",
    "        'Mozilla/5.0 (Macintosh; Intel Mac OS X 10.15; rv:77.0) Gecko/20100101 Firefox/77.0',\n",
    "        'Mozilla/5.0 (Windows NT 10.0; Win64; x64) AppleWebKit/537.36 (KHTML, like Gecko) Chrome/83.0.4103.97 Safari/537.36',\n",
    "    ]\n",
    "    user_agent = random.choice(user_agent_list)\n",
    "    headers = {'User-Agent': user_agent}\n",
    "    \n",
    "    #check if the fake browsers and urls are working fine\n",
    "    print(base_url+str(page))\n",
    "    i=int(page)\n",
    "    print(\"Request #%d\\nUser-Agent Sent:%s\\n\\nHeaders Recevied by HTTPBin:\"%(i,user_agent))\n",
    "    site=requests.get(base_url+str(page),headers=headers)\n",
    "    print(site.status_code)\n",
    "    \n",
    "    #timer\n",
    "    from time import sleep\n",
    "    from random import randint\n",
    "    sleep(randint(10,18))\n",
    "    \n",
    "    #below code will give the results\n",
    "    soup=BeautifulSoup(site.content, \"html.parser\")\n",
    "    #print(soup.prettify())\n",
    "    all=soup.find_all(\"div\", {\"class\", \"grid-product__content\"})\n",
    "    #len(all)\n",
    "\n",
    "    for item in all: \n",
    "        d={}\n",
    "        #replace all with item\n",
    "        #item=soup.find_all(\"div\", {\"class\", \"grid-product__content\"})\n",
    "        d[\"Product Title\"]=item.find('div', {'class', 'grid-product__title grid-product__title--body'}).text\n",
    "        \n",
    "        try: d[\"Original Price\"]=item.find('div', {'class', 'grid-product__price'}).find_all('span')[1].text.replace(\"Rs.\", \"\").replace(\",\",\"\")\n",
    "        except: d[\"Original Price\"]=None\n",
    "        \n",
    "        try: d[\"sale Price\"]=item.find('div', {'class', 'grid-product__price'}).find_all('span')[4].text.replace(\"Rs.\", \"\").replace(\",\",\"\")\n",
    "        except: d[\"sale Price\"]=None\n",
    "        \n",
    "        try: d[\"Saving\"]=item.find('div', {'class', 'grid-product__price'}).find_all('span')[5].text.replace(\"Save\", \"\").replace(\" \",\"\").replace(\"Rs.\", \"\").replace(\"\\n\", \"\").replace(\",\", \"\")\n",
    "        except:  d[\"Saving\"]=None\n",
    "        urlPart=item.find('a', {'class', 'grid-product__link'}).get('href')\n",
    "        urlInitials=('https://www.almirah.com.pk')\n",
    "        try: d[\"Product Url\"]=urlInitials+urlPart\n",
    "        except: d[\"Product Url\"]=None\n",
    "        l.append(d)\n",
    "    "
   ]
  },
  {
   "cell_type": "code",
   "execution_count": 9,
   "metadata": {},
   "outputs": [
    {
     "data": {
      "text/plain": [
       "62"
      ]
     },
     "execution_count": 9,
     "metadata": {},
     "output_type": "execute_result"
    }
   ],
   "source": [
    "len(l)"
   ]
  },
  {
   "cell_type": "code",
   "execution_count": 10,
   "metadata": {},
   "outputs": [],
   "source": [
    "#l"
   ]
  },
  {
   "cell_type": "code",
   "execution_count": 11,
   "metadata": {},
   "outputs": [],
   "source": [
    "import pandas\n",
    "df=pandas.DataFrame(l)"
   ]
  },
  {
   "cell_type": "code",
   "execution_count": 12,
   "metadata": {},
   "outputs": [
    {
     "data": {
      "text/html": [
       "<div>\n",
       "<style scoped>\n",
       "    .dataframe tbody tr th:only-of-type {\n",
       "        vertical-align: middle;\n",
       "    }\n",
       "\n",
       "    .dataframe tbody tr th {\n",
       "        vertical-align: top;\n",
       "    }\n",
       "\n",
       "    .dataframe thead th {\n",
       "        text-align: right;\n",
       "    }\n",
       "</style>\n",
       "<table border=\"1\" class=\"dataframe\">\n",
       "  <thead>\n",
       "    <tr style=\"text-align: right;\">\n",
       "      <th></th>\n",
       "      <th>Product Title</th>\n",
       "      <th>Original Price</th>\n",
       "      <th>sale Price</th>\n",
       "      <th>Saving</th>\n",
       "      <th>Product Url</th>\n",
       "    </tr>\n",
       "  </thead>\n",
       "  <tbody>\n",
       "    <tr>\n",
       "      <th>0</th>\n",
       "      <td>Yellow Lawn Tunic - ALP-LK-1017</td>\n",
       "      <td>2850.00</td>\n",
       "      <td>2137.50</td>\n",
       "      <td>712.50</td>\n",
       "      <td>https://www.almirah.com.pk/collections/tunic-k...</td>\n",
       "    </tr>\n",
       "    <tr>\n",
       "      <th>1</th>\n",
       "      <td>Blue Lawn Tunic - ALP-LK-1015</td>\n",
       "      <td>3250.00</td>\n",
       "      <td>2437.50</td>\n",
       "      <td>812.50</td>\n",
       "      <td>https://www.almirah.com.pk/collections/tunic-k...</td>\n",
       "    </tr>\n",
       "    <tr>\n",
       "      <th>2</th>\n",
       "      <td>Sea Green Lawn Tunic - ALP-LK-1014</td>\n",
       "      <td>2850.00</td>\n",
       "      <td>2137.50</td>\n",
       "      <td>712.50</td>\n",
       "      <td>https://www.almirah.com.pk/collections/tunic-k...</td>\n",
       "    </tr>\n",
       "    <tr>\n",
       "      <th>3</th>\n",
       "      <td>Maroon Lawn Tunic - ALP-LK-1012</td>\n",
       "      <td>3450.00</td>\n",
       "      <td>2587.50</td>\n",
       "      <td>862.50</td>\n",
       "      <td>https://www.almirah.com.pk/collections/tunic-k...</td>\n",
       "    </tr>\n",
       "    <tr>\n",
       "      <th>4</th>\n",
       "      <td>Sky Blue Lawn Tunic - ALP-LK-1011</td>\n",
       "      <td>3250.00</td>\n",
       "      <td>2437.50</td>\n",
       "      <td>812.50</td>\n",
       "      <td>https://www.almirah.com.pk/collections/tunic-k...</td>\n",
       "    </tr>\n",
       "    <tr>\n",
       "      <th>...</th>\n",
       "      <td>...</td>\n",
       "      <td>...</td>\n",
       "      <td>...</td>\n",
       "      <td>...</td>\n",
       "      <td>...</td>\n",
       "    </tr>\n",
       "    <tr>\n",
       "      <th>57</th>\n",
       "      <td>Blue Tunic - LK-212</td>\n",
       "      <td>3400.00</td>\n",
       "      <td>2550.00</td>\n",
       "      <td>850.00</td>\n",
       "      <td>https://www.almirah.com.pk/collections/tunic-k...</td>\n",
       "    </tr>\n",
       "    <tr>\n",
       "      <th>58</th>\n",
       "      <td>Brown Silk Tunic - LK-209</td>\n",
       "      <td>3650.00</td>\n",
       "      <td>2737.50</td>\n",
       "      <td>912.50</td>\n",
       "      <td>https://www.almirah.com.pk/collections/tunic-k...</td>\n",
       "    </tr>\n",
       "    <tr>\n",
       "      <th>59</th>\n",
       "      <td>Black Khaddar Tunic - LK-206</td>\n",
       "      <td>3100.00</td>\n",
       "      <td>2325.00</td>\n",
       "      <td>775.00</td>\n",
       "      <td>https://www.almirah.com.pk/collections/tunic-k...</td>\n",
       "    </tr>\n",
       "    <tr>\n",
       "      <th>60</th>\n",
       "      <td>Blue Silk Tunic - LK-208</td>\n",
       "      <td>3650.00</td>\n",
       "      <td>2737.50</td>\n",
       "      <td>912.50</td>\n",
       "      <td>https://www.almirah.com.pk/collections/tunic-k...</td>\n",
       "    </tr>\n",
       "    <tr>\n",
       "      <th>61</th>\n",
       "      <td>Beige Tunic - LK-609</td>\n",
       "      <td>2500.00</td>\n",
       "      <td>1875.00</td>\n",
       "      <td>625.00</td>\n",
       "      <td>https://www.almirah.com.pk/collections/tunic-k...</td>\n",
       "    </tr>\n",
       "  </tbody>\n",
       "</table>\n",
       "<p>62 rows × 5 columns</p>\n",
       "</div>"
      ],
      "text/plain": [
       "                         Product Title Original Price sale Price  Saving  \\\n",
       "0      Yellow Lawn Tunic - ALP-LK-1017        2850.00    2137.50  712.50   \n",
       "1        Blue Lawn Tunic - ALP-LK-1015        3250.00    2437.50  812.50   \n",
       "2   Sea Green Lawn Tunic - ALP-LK-1014        2850.00    2137.50  712.50   \n",
       "3      Maroon Lawn Tunic - ALP-LK-1012        3450.00    2587.50  862.50   \n",
       "4    Sky Blue Lawn Tunic - ALP-LK-1011        3250.00    2437.50  812.50   \n",
       "..                                 ...            ...        ...     ...   \n",
       "57                 Blue Tunic - LK-212        3400.00    2550.00  850.00   \n",
       "58           Brown Silk Tunic - LK-209        3650.00    2737.50  912.50   \n",
       "59        Black Khaddar Tunic - LK-206        3100.00    2325.00  775.00   \n",
       "60            Blue Silk Tunic - LK-208        3650.00    2737.50  912.50   \n",
       "61                Beige Tunic - LK-609        2500.00    1875.00  625.00   \n",
       "\n",
       "                                          Product Url  \n",
       "0   https://www.almirah.com.pk/collections/tunic-k...  \n",
       "1   https://www.almirah.com.pk/collections/tunic-k...  \n",
       "2   https://www.almirah.com.pk/collections/tunic-k...  \n",
       "3   https://www.almirah.com.pk/collections/tunic-k...  \n",
       "4   https://www.almirah.com.pk/collections/tunic-k...  \n",
       "..                                                ...  \n",
       "57  https://www.almirah.com.pk/collections/tunic-k...  \n",
       "58  https://www.almirah.com.pk/collections/tunic-k...  \n",
       "59  https://www.almirah.com.pk/collections/tunic-k...  \n",
       "60  https://www.almirah.com.pk/collections/tunic-k...  \n",
       "61  https://www.almirah.com.pk/collections/tunic-k...  \n",
       "\n",
       "[62 rows x 5 columns]"
      ]
     },
     "execution_count": 12,
     "metadata": {},
     "output_type": "execute_result"
    }
   ],
   "source": [
    "df"
   ]
  },
  {
   "cell_type": "code",
   "execution_count": 13,
   "metadata": {},
   "outputs": [],
   "source": [
    "df.to_csv(\"almirah/tunic-kurti/almirah_v3_3sept20.csv\")"
   ]
  },
  {
   "cell_type": "code",
   "execution_count": null,
   "metadata": {},
   "outputs": [],
   "source": []
  },
  {
   "cell_type": "code",
   "execution_count": null,
   "metadata": {},
   "outputs": [],
   "source": []
  },
  {
   "cell_type": "code",
   "execution_count": null,
   "metadata": {},
   "outputs": [],
   "source": []
  },
  {
   "cell_type": "code",
   "execution_count": null,
   "metadata": {},
   "outputs": [],
   "source": []
  },
  {
   "cell_type": "code",
   "execution_count": null,
   "metadata": {},
   "outputs": [],
   "source": []
  },
  {
   "cell_type": "code",
   "execution_count": null,
   "metadata": {},
   "outputs": [],
   "source": []
  },
  {
   "cell_type": "code",
   "execution_count": null,
   "metadata": {},
   "outputs": [],
   "source": []
  }
 ],
 "metadata": {
  "kernelspec": {
   "display_name": "Python 3",
   "language": "python",
   "name": "python3"
  },
  "language_info": {
   "codemirror_mode": {
    "name": "ipython",
    "version": 3
   },
   "file_extension": ".py",
   "mimetype": "text/x-python",
   "name": "python",
   "nbconvert_exporter": "python",
   "pygments_lexer": "ipython3",
   "version": "3.8.3"
  }
 },
 "nbformat": 4,
 "nbformat_minor": 4
}
